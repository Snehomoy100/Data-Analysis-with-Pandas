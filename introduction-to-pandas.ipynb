{
 "cells": [
  {
   "cell_type": "code",
   "execution_count": 1,
   "id": "f779c5f3",
   "metadata": {},
   "outputs": [],
   "source": [
    "import pandas as pd"
   ]
  },
  {
   "cell_type": "code",
   "execution_count": 2,
   "id": "667e2949",
   "metadata": {},
   "outputs": [],
   "source": [
    "# series -> 1-dimensional\n",
    "cars = pd.Series(['Honda', 'BMW', 'Toyota', 'Suzuki'])"
   ]
  },
  {
   "cell_type": "code",
   "execution_count": 3,
   "id": "468ea890",
   "metadata": {},
   "outputs": [
    {
     "data": {
      "text/plain": [
       "0     Honda\n",
       "1       BMW\n",
       "2    Toyota\n",
       "3    Suzuki\n",
       "dtype: object"
      ]
     },
     "execution_count": 3,
     "metadata": {},
     "output_type": "execute_result"
    }
   ],
   "source": [
    "cars"
   ]
  },
  {
   "cell_type": "code",
   "execution_count": 4,
   "id": "94ffe597",
   "metadata": {},
   "outputs": [],
   "source": [
    "colours = pd.Series(['Red', 'Green', 'Black', 'White'])"
   ]
  },
  {
   "cell_type": "code",
   "execution_count": 5,
   "id": "f7838e5a",
   "metadata": {},
   "outputs": [
    {
     "name": "stdout",
     "output_type": "stream",
     "text": [
      "0      Red\n",
      "1    Green\n",
      "2    Black\n",
      "3    White\n",
      "dtype: object\n"
     ]
    }
   ],
   "source": [
    "print(colours)"
   ]
  },
  {
   "cell_type": "code",
   "execution_count": 6,
   "id": "8d72634d",
   "metadata": {},
   "outputs": [],
   "source": [
    "# dataframes -> 2-dimensional (It has row & coloumn)\n",
    "dataframe = pd.DataFrame({\"Companies\" : cars, \"Colors\" : colours})"
   ]
  },
  {
   "cell_type": "code",
   "execution_count": 7,
   "id": "cd04fd82",
   "metadata": {},
   "outputs": [
    {
     "name": "stdout",
     "output_type": "stream",
     "text": [
      "  Companies Colors\n",
      "0     Honda    Red\n",
      "1       BMW  Green\n",
      "2    Toyota  Black\n",
      "3    Suzuki  White\n"
     ]
    }
   ],
   "source": [
    "print(dataframe)"
   ]
  },
  {
   "cell_type": "code",
   "execution_count": 8,
   "id": "aafdf6df",
   "metadata": {},
   "outputs": [],
   "source": [
    "# import dataset\n",
    "dataset = pd.read_csv(\"car-sales.csv\")"
   ]
  },
  {
   "cell_type": "code",
   "execution_count": 9,
   "id": "43371e3c",
   "metadata": {},
   "outputs": [
    {
     "name": "stdout",
     "output_type": "stream",
     "text": [
      "     Make Colour  Odometer (KM)  Doors       Price\n",
      "0  Toyota  White         150043      4   $4,000.00\n",
      "1   Honda    Red          87899      4   $5,000.00\n",
      "2  Toyota   Blue          32549      3   $7,000.00\n",
      "3     BMW  Black          11179      5  $22,000.00\n",
      "4  Nissan  White         213095      4   $3,500.00\n",
      "5  Toyota  Green          99213      4   $4,500.00\n",
      "6   Honda   Blue          45698      4   $7,500.00\n",
      "7   Honda   Blue          54738      4   $7,000.00\n",
      "8  Toyota  White          60000      4   $6,250.00\n",
      "9  Nissan  White          31600      4   $9,700.00\n"
     ]
    }
   ],
   "source": [
    "print(dataset)"
   ]
  },
  {
   "cell_type": "code",
   "execution_count": 13,
   "id": "8f27e4e6",
   "metadata": {},
   "outputs": [],
   "source": [
    "dataset.to_csv(\"exported-car-sales.csv\", index=False)"
   ]
  },
  {
   "cell_type": "code",
   "execution_count": 14,
   "id": "56a783f4",
   "metadata": {},
   "outputs": [],
   "source": [
    "exported_dataframe = pd.read_csv(\"exported-car-sales.csv\")"
   ]
  },
  {
   "cell_type": "code",
   "execution_count": 15,
   "id": "f26108cc",
   "metadata": {},
   "outputs": [
    {
     "name": "stdout",
     "output_type": "stream",
     "text": [
      "     Make Colour  Odometer (KM)  Doors       Price\n",
      "0  Toyota  White         150043      4   $4,000.00\n",
      "1   Honda    Red          87899      4   $5,000.00\n",
      "2  Toyota   Blue          32549      3   $7,000.00\n",
      "3     BMW  Black          11179      5  $22,000.00\n",
      "4  Nissan  White         213095      4   $3,500.00\n",
      "5  Toyota  Green          99213      4   $4,500.00\n",
      "6   Honda   Blue          45698      4   $7,500.00\n",
      "7   Honda   Blue          54738      4   $7,000.00\n",
      "8  Toyota  White          60000      4   $6,250.00\n",
      "9  Nissan  White          31600      4   $9,700.00\n"
     ]
    }
   ],
   "source": [
    "print(exported_dataframe)"
   ]
  },
  {
   "cell_type": "code",
   "execution_count": null,
   "id": "e9fadc86",
   "metadata": {},
   "outputs": [],
   "source": []
  }
 ],
 "metadata": {
  "kernelspec": {
   "display_name": "Python 3",
   "language": "python",
   "name": "python3"
  },
  "language_info": {
   "codemirror_mode": {
    "name": "ipython",
    "version": 3
   },
   "file_extension": ".py",
   "mimetype": "text/x-python",
   "name": "python",
   "nbconvert_exporter": "python",
   "pygments_lexer": "ipython3",
   "version": "3.8.5"
  }
 },
 "nbformat": 4,
 "nbformat_minor": 5
}
